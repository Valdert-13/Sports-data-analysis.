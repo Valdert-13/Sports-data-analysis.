{
 "cells": [
  {
   "cell_type": "code",
   "execution_count": 1,
   "metadata": {},
   "outputs": [],
   "source": [
    "import pandas as pd\n",
    "import numpy as np\n",
    "from sklearn.metrics import roc_auc_score\n",
    "from sklearn.model_selection import train_test_split,  KFold\n",
    "import catboost as cb\n",
    "import time\n",
    "import math\n",
    "from sklearn.preprocessing import StandardScaler\n",
    "from sklearn.decomposition import PCA"
   ]
  },
  {
   "cell_type": "code",
   "execution_count": 2,
   "metadata": {},
   "outputs": [],
   "source": [
    "np.random.seed(13)"
   ]
  },
  {
   "cell_type": "code",
   "execution_count": 3,
   "metadata": {},
   "outputs": [],
   "source": [
    "df_train = pd.read_csv('../data/assignment_train.csv')\n",
    "df_test = pd.read_csv('../data/assignment_test.csv')"
   ]
  },
  {
   "cell_type": "code",
   "execution_count": 4,
   "metadata": {},
   "outputs": [],
   "source": [
    "def catboost_cross_validation(params, X, y, cv, categorical = None):\n",
    "    \"\"\"\n",
    "    Кросс-валидация для модели catbooost.\n",
    "\n",
    "    Parameters\n",
    "    ----------\n",
    "    params: dict\n",
    "        Словарь гиперпараметров модели.\n",
    "\n",
    "    X: pandas.core.frame.DataFrame\n",
    "        Матрица признако для обучения модели.\n",
    "\n",
    "    y: pandas.core.frame.Series\n",
    "        Вектор целевой переменной для обучения модели.\n",
    "\n",
    "    cv: KFold or StratifiedKFold generator.\n",
    "        Объект KFold / StratifiedKFold для определения\n",
    "        стратегии кросс-валидации модели.\n",
    "\n",
    "    categorical: str, optional, default = None\n",
    "        Список категориальных признаков.\n",
    "        Опциональный параметр, по умолчанию, не используется.\n",
    "\n",
    "    Returns\n",
    "    -------\n",
    "    estimators: list\n",
    "        Список с объектами обученной модели.\n",
    "\n",
    "    oof_preds: np.array\n",
    "        Вектор OOF-прогнозов.\n",
    "\n",
    "    \"\"\"\n",
    "    estimators, folds_scores = [], []\n",
    "    oof_preds = np.zeros(X.shape[0])\n",
    "\n",
    "    print(f\"{time.ctime()}, Cross-Validation, {X.shape[0]} rows, {X.shape[1]} cols\")\n",
    "    X[categorical] = X[categorical].astype(str)\n",
    "\n",
    "    for fold, (train_idx, valid_idx) in enumerate(cv.split(X, y)):\n",
    "\n",
    "        x_train, x_valid = X.loc[train_idx], X.loc[valid_idx]\n",
    "        y_train, y_valid = y[train_idx], y[valid_idx]\n",
    "\n",
    "        model = cb.CatBoostClassifier(**params)\n",
    "        model.fit(\n",
    "            x_train, y_train, categorical,\n",
    "#             eval_set=[(x_train, y_train), (x_valid, y_valid)]\n",
    "        )\n",
    "        oof_preds[valid_idx] = model.predict_proba(x_valid)[:, 1]\n",
    "        score = roc_auc_score(y_valid, oof_preds[valid_idx])\n",
    "        print(f\"Fold {fold+1}, Valid score = {round(score, 5)}\")\n",
    "        folds_scores.append(round(score, 5))\n",
    "        estimators.append(model)\n",
    "\n",
    "    print(f\"Score by each fold: {folds_scores}\")\n",
    "    print(\"=\"*65)\n",
    "    return estimators, oof_preds"
   ]
  },
  {
   "cell_type": "code",
   "execution_count": 5,
   "metadata": {},
   "outputs": [],
   "source": [
    "cb_params = {\n",
    "    \"n_estimators\": 2000,\n",
    "    \"learning_rate\": 0.05,\n",
    "    \"loss_function\": \"Logloss\",\n",
    "    \"eval_metric\": \"AUC\",\n",
    "    \"task_type\": \"GPU\",\n",
    "    \"max_bin\": 20,\n",
    "    \"silent\": True,\n",
    "    \"max_depth\": 6,\n",
    "    \"l2_leaf_reg\": 100,\n",
    "    \"early_stopping_rounds\": 50,\n",
    "    \"thread_count\": 6,\n",
    "    \"random_seed\": 17\n",
    "}"
   ]
  },
  {
   "cell_type": "code",
   "execution_count": 6,
   "metadata": {},
   "outputs": [],
   "source": [
    "def get_score(df_train):\n",
    "    train = df_train.drop(['isFraud', \"TransactionID\", \"TransactionDT\"], axis=1)\n",
    "    target = df_train['isFraud']\n",
    "\n",
    "    categorial = train.dtypes[train.dtypes == \"object\"].index\n",
    "    cv = KFold(n_splits=5, random_state=13, shuffle=True)\n",
    "\n",
    "    estimators, oof_preds = catboost_cross_validation(\n",
    "        params=cb_params, X=train, y=target, cv=cv, categorical=categorial\n",
    "    )\n",
    "    \n",
    "    oof_score = roc_auc_score(target, oof_preds)\n",
    "    \n",
    "    print(f\"OOF-score = {round(oof_score, 5)}\")\n",
    "    return estimators, oof_preds"
   ]
  },
  {
   "cell_type": "code",
   "execution_count": 7,
   "metadata": {},
   "outputs": [
    {
     "name": "stdout",
     "output_type": "stream",
     "text": [
      "Sat Sep 26 15:34:13 2020, Cross-Validation, 50001 rows, 391 cols\n",
      "Fold 1, Valid score = 0.87622\n",
      "Fold 2, Valid score = 0.90444\n",
      "Fold 3, Valid score = 0.89173\n",
      "Fold 4, Valid score = 0.89442\n",
      "Fold 5, Valid score = 0.88596\n",
      "Score by each fold: [0.87622, 0.90444, 0.89173, 0.89442, 0.88596]\n",
      "=================================================================\n",
      "OOF-score = 0.8897\n"
     ]
    }
   ],
   "source": [
    "estimators, oof_preds = get_score(df_train)"
   ]
  },
  {
   "cell_type": "code",
   "execution_count": 8,
   "metadata": {},
   "outputs": [],
   "source": [
    "start_date = pd.to_datetime('2017-12-01')\n",
    "DATE = 'TransactionDT'\n",
    "df_train[DATE] = pd.to_datetime(df_train[DATE], unit='s', origin=start_date)\n",
    "df_train[DATE + '_Y'] = df_train[DATE].dt.year\n",
    "df_train[DATE + '_M'] = df_train[DATE].dt.month\n",
    "df_train[DATE + '_WD'] = df_train[DATE].dt.weekday\n",
    "df_train[DATE + '_H'] = df_train[DATE].dt.hour\n",
    "df_train[DATE + '_D'] = df_train[DATE].dt.day"
   ]
  },
  {
   "cell_type": "code",
   "execution_count": 9,
   "metadata": {},
   "outputs": [
    {
     "name": "stdout",
     "output_type": "stream",
     "text": [
      "Sat Sep 26 15:44:18 2020, Cross-Validation, 50001 rows, 396 cols\n",
      "Fold 1, Valid score = 0.87678\n",
      "Fold 2, Valid score = 0.90482\n",
      "Fold 3, Valid score = 0.88937\n",
      "Fold 4, Valid score = 0.89613\n",
      "Fold 5, Valid score = 0.88413\n",
      "Score by each fold: [0.87678, 0.90482, 0.88937, 0.89613, 0.88413]\n",
      "=================================================================\n",
      "OOF-score = 0.88943\n"
     ]
    }
   ],
   "source": [
    "estimators, oof_preds = get_score(df_train)"
   ]
  },
  {
   "cell_type": "code",
   "execution_count": 10,
   "metadata": {},
   "outputs": [],
   "source": [
    "def get_group_val_card(X):\n",
    "    cards = [f'card{i}' for i in range(1,7)]\n",
    "    res = X[['TransactionAmt']+cards].copy()\n",
    "    for i in cards:\n",
    "        m = res.groupby(i)['TransactionAmt'].mean()\n",
    "        res[f'{i}_mean'] = res[i].map(m)\n",
    "        res[f'{i}_diff'] = res['TransactionAmt'] - res[f'{i}_mean']\n",
    "        res[f'{i}_rel'] = res['TransactionAmt'] / res[f'{i}_mean']\n",
    "    return res.drop(['TransactionAmt']+cards, axis=1)\n",
    "\n",
    "df_train = pd.concat([df_train,  get_group_val_card(df_train)], axis=1)"
   ]
  },
  {
   "cell_type": "code",
   "execution_count": 11,
   "metadata": {},
   "outputs": [
    {
     "name": "stdout",
     "output_type": "stream",
     "text": [
      "Sat Sep 26 15:54:08 2020, Cross-Validation, 50001 rows, 414 cols\n",
      "Fold 1, Valid score = 0.87891\n",
      "Fold 2, Valid score = 0.90643\n",
      "Fold 3, Valid score = 0.89125\n",
      "Fold 4, Valid score = 0.89721\n",
      "Fold 5, Valid score = 0.88511\n",
      "Score by each fold: [0.87891, 0.90643, 0.89125, 0.89721, 0.88511]\n",
      "=================================================================\n",
      "OOF-score = 0.89108\n"
     ]
    }
   ],
   "source": [
    "estimators, oof_preds = get_score(df_train)"
   ]
  },
  {
   "cell_type": "code",
   "execution_count": 14,
   "metadata": {},
   "outputs": [],
   "source": [
    "def process_card(df_train):\n",
    "    cards = [f'card{i}' for i in range(1,7)]\n",
    "    for i in cards:\n",
    "        freq_encoder = df_train[i].value_counts(normalize=True)\n",
    "        df_train[i + \"_freq_enc\"] = df_train[i].map(freq_encoder)        \n",
    "\n",
    "    return df_train\n",
    "\n",
    "df_train = process_card(df_train)"
   ]
  },
  {
   "cell_type": "code",
   "execution_count": 15,
   "metadata": {},
   "outputs": [
    {
     "name": "stdout",
     "output_type": "stream",
     "text": [
      "Sat Sep 26 16:06:57 2020, Cross-Validation, 50001 rows, 420 cols\n",
      "Fold 1, Valid score = 0.87691\n",
      "Fold 2, Valid score = 0.90407\n",
      "Fold 3, Valid score = 0.89064\n",
      "Fold 4, Valid score = 0.89192\n",
      "Fold 5, Valid score = 0.88724\n",
      "Score by each fold: [0.87691, 0.90407, 0.89064, 0.89192, 0.88724]\n",
      "=================================================================\n",
      "OOF-score = 0.88963\n"
     ]
    }
   ],
   "source": [
    "estimators, oof_preds = get_score(df_train)"
   ]
  },
  {
   "cell_type": "code",
   "execution_count": 16,
   "metadata": {},
   "outputs": [],
   "source": [
    "value_colum = \"TransactionAmt\"\n",
    "df_train['Log_' + value_colum] = np.log(df_train[value_colum])\n",
    "df_train['LogFloor_' + value_colum] = df_train[value_colum].apply(lambda x: math.floor(np.log(x)))\n",
    "df_train['LogRemainder_' + value_colum] = df_train['Log_' + value_colum] - df_train['LogFloor_' + value_colum]"
   ]
  },
  {
   "cell_type": "code",
   "execution_count": 17,
   "metadata": {},
   "outputs": [
    {
     "name": "stdout",
     "output_type": "stream",
     "text": [
      "Sat Sep 26 16:17:22 2020, Cross-Validation, 50001 rows, 423 cols\n",
      "Fold 1, Valid score = 0.87964\n",
      "Fold 2, Valid score = 0.90278\n",
      "Fold 3, Valid score = 0.89216\n",
      "Fold 4, Valid score = 0.89158\n",
      "Fold 5, Valid score = 0.88678\n",
      "Score by each fold: [0.87964, 0.90278, 0.89216, 0.89158, 0.88678]\n",
      "=================================================================\n",
      "OOF-score = 0.89007\n"
     ]
    }
   ],
   "source": [
    "estimators, oof_preds = get_score(df_train)"
   ]
  },
  {
   "cell_type": "code",
   "execution_count": 26,
   "metadata": {},
   "outputs": [],
   "source": [
    "pca = PCA(n_components = 4)\n",
    "scalar = StandardScaler()\n",
    "\n",
    "value_colum =  df_train.drop(['TransactionID', 'TransactionDT', 'isFraud'], axis=1).select_dtypes(include=[np.number]).columns\n",
    "X_std = scalar.fit_transform(df_train[value_colum].apply(lambda x: x.fillna(x.mean())))\n",
    "X_std_pca = pca.fit_transform(X_std)\n",
    "\n",
    "v_col = 'pca'\n",
    "\n",
    "df_train[[v_col + '_c1', v_col + '_c2', v_col + '_c3', v_col + '_c4']] = \\\n",
    "    pd.DataFrame(X_std_pca, columns = [v_col + '_c1', v_col + '_c2', v_col + '_c3', v_col + '_c4'])"
   ]
  },
  {
   "cell_type": "code",
   "execution_count": 28,
   "metadata": {},
   "outputs": [
    {
     "name": "stdout",
     "output_type": "stream",
     "text": [
      "Sat Sep 26 16:33:12 2020, Cross-Validation, 50001 rows, 427 cols\n",
      "Fold 1, Valid score = 0.8736\n",
      "Fold 2, Valid score = 0.90579\n",
      "Fold 3, Valid score = 0.89279\n",
      "Fold 4, Valid score = 0.89293\n",
      "Fold 5, Valid score = 0.88365\n",
      "Score by each fold: [0.8736, 0.90579, 0.89279, 0.89293, 0.88365]\n",
      "=================================================================\n",
      "OOF-score = 0.88927\n"
     ]
    }
   ],
   "source": [
    "estimators, oof_preds = get_score(df_train)"
   ]
  },
  {
   "cell_type": "code",
   "execution_count": 78,
   "metadata": {},
   "outputs": [],
   "source": [
    "def calculate_permutation_importance(estimators, x_valid: pd.DataFrame,\n",
    "                                     y_valid: pd.Series) -> pd.Series:   \n",
    "\n",
    "    scores = {}\n",
    "    y_pred = np.zeros(x_valid.shape[0])\n",
    "    for estimator in estimators:\n",
    "        y_pred += estimator.predict_proba(x_valid)[:, 1]    \n",
    "    y_pred = y_pred / len(estimators)\n",
    "        \n",
    "    base_score = roc_auc_score(y_valid, y_pred)    \n",
    "\n",
    "    for feature in x_valid.columns:\n",
    "        x_valid_copy = x_valid.copy()\n",
    "        x_valid_copy[feature] = np.random.permutation(x_valid_copy[feature])\n",
    "\n",
    "        y_pred = np.zeros(x_valid_copy.shape[0])\n",
    "        for estimator in estimators:\n",
    "            y_pred += estimator.predict_proba(x_valid_copy)[:, 1]    \n",
    "        y_pred = y_pred / len(estimators)\n",
    "        score = roc_auc_score(y_valid, y_pred)    \n",
    "\n",
    "        scores[feature] = base_score - score\n",
    "\n",
    "    scores = pd.Series(scores)\n",
    "    scores = scores.sort_values(ascending=False)\n",
    "\n",
    "    return scores"
   ]
  },
  {
   "cell_type": "code",
   "execution_count": 79,
   "metadata": {},
   "outputs": [],
   "source": [
    "train = df_train.drop(['isFraud', \"TransactionID\", \"TransactionDT\"], axis=1).fillna(-9999)\n",
    "target = df_train['isFraud']"
   ]
  },
  {
   "cell_type": "code",
   "execution_count": 101,
   "metadata": {},
   "outputs": [],
   "source": [
    "perm_importance = calculate_permutation_importance(estimators, train, target)\n",
    "col = perm_importance[perm_importance > 0.01].index.to_list() + ['isFraud', \"TransactionID\", \"TransactionDT\"]\n",
    "df_train_x = df_train[col]"
   ]
  },
  {
   "cell_type": "code",
   "execution_count": 102,
   "metadata": {},
   "outputs": [
    {
     "name": "stdout",
     "output_type": "stream",
     "text": [
      "Sat Sep 26 22:47:06 2020, Cross-Validation, 50001 rows, 70 cols\n",
      "Fold 1, Valid score = 0.88042\n",
      "Fold 2, Valid score = 0.90104\n",
      "Fold 3, Valid score = 0.89266\n",
      "Fold 4, Valid score = 0.89507\n",
      "Fold 5, Valid score = 0.88546\n",
      "Score by each fold: [0.88042, 0.90104, 0.89266, 0.89507, 0.88546]\n",
      "=================================================================\n",
      "OOF-score = 0.89012\n"
     ]
    }
   ],
   "source": [
    "estimators, oof_preds = get_score(df_train_x)"
   ]
  },
  {
   "cell_type": "markdown",
   "metadata": {},
   "source": [
    "Вывод: catboost под капотом имеет много функций и сильно повлиять на предсказание довольно сложно, как показывает эксперимент добавление новых признаков может ухучшать результат и улучшать. Когда признаков становится более 200 имеет смысл провести отбор признаков"
   ]
  },
  {
   "cell_type": "code",
   "execution_count": null,
   "metadata": {},
   "outputs": [],
   "source": []
  }
 ],
 "metadata": {
  "kernelspec": {
   "display_name": "Python 3",
   "language": "python",
   "name": "python3"
  },
  "language_info": {
   "codemirror_mode": {
    "name": "ipython",
    "version": 3
   },
   "file_extension": ".py",
   "mimetype": "text/x-python",
   "name": "python",
   "nbconvert_exporter": "python",
   "pygments_lexer": "ipython3",
   "version": "3.7.9"
  }
 },
 "nbformat": 4,
 "nbformat_minor": 4
}
